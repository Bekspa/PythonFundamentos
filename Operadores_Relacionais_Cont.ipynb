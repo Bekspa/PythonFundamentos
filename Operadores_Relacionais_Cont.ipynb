{
  "nbformat": 4,
  "nbformat_minor": 0,
  "metadata": {
    "colab": {
      "name": "atividade16.ipynb",
      "provenance": [],
      "collapsed_sections": [],
      "include_colab_link": true
    },
    "kernelspec": {
      "name": "python3",
      "display_name": "Python 3"
    }
  },
  "cells": [
    {
      "cell_type": "markdown",
      "metadata": {
        "id": "view-in-github",
        "colab_type": "text"
      },
      "source": [
        "<a href=\"https://colab.research.google.com/github/Bekspa/PythonFundamentos/blob/master/Operadores_Relacionais_Cont.ipynb\" target=\"_parent\"><img src=\"https://colab.research.google.com/assets/colab-badge.svg\" alt=\"Open In Colab\"/></a>"
      ]
    },
    {
      "cell_type": "code",
      "metadata": {
        "id": "MpcTW3tzoncX",
        "colab": {
          "base_uri": "https://localhost:8080/"
        },
        "outputId": "84178384-3a03-4403-ec9f-89b8cfdb1651"
      },
      "source": [
        "verdade = True\n",
        "falso = False\n",
        "print(verdade, 'ou', falso)"
      ],
      "execution_count": 1,
      "outputs": [
        {
          "output_type": "stream",
          "text": [
            "True ou False\n"
          ],
          "name": "stdout"
        }
      ]
    },
    {
      "cell_type": "code",
      "metadata": {
        "id": "F7Ube7CR7P-m",
        "colab": {
          "base_uri": "https://localhost:8080/"
        },
        "outputId": "2032d14d-63dc-475b-9768-fc7c73e242e5"
      },
      "source": [
        "#Operador Igual ==\n",
        "minhaIdade = 56\n",
        "print('É verdade que minha idade é igual a 56 anos?', minhaIdade == 56)\n",
        "print('É verdade que minha idade é igual a 16 anos?', minhaIdade == 16)"
      ],
      "execution_count": 2,
      "outputs": [
        {
          "output_type": "stream",
          "text": [
            "É verdade que minha idade é igual a 56 anos? True\n",
            "É verdade que minha idade é igual a 16 anos? False\n"
          ],
          "name": "stdout"
        }
      ]
    },
    {
      "cell_type": "code",
      "metadata": {
        "id": "fS1DjqsP8fQ-",
        "colab": {
          "base_uri": "https://localhost:8080/"
        },
        "outputId": "5bfb06ed-3271-4b77-e78a-7803e292f825"
      },
      "source": [
        "#Operador Diferente !=\n",
        "print('É verdade que minha idade diferente de 56 anos?', minhaIdade != 56)\n",
        "print('É verdade que minha idade diferente de 16 anos?', minhaIdade != 16)"
      ],
      "execution_count": 3,
      "outputs": [
        {
          "output_type": "stream",
          "text": [
            "É verdade que minha idade diferente de 56 anos? False\n",
            "É verdade que minha idade diferente de 16 anos? True\n"
          ],
          "name": "stdout"
        }
      ]
    },
    {
      "cell_type": "code",
      "metadata": {
        "id": "NbZ0n3hp80X0",
        "colab": {
          "base_uri": "https://localhost:8080/"
        },
        "outputId": "63b93213-f66b-4474-8257-54d212e16dbd"
      },
      "source": [
        "#Operador Maior que >\n",
        "print('É verdade que minha idade maior que 56 anos?', minhaIdade > 56)\n",
        "print('É verdade que minha idade maior que 10 anos?', minhaIdade > 10)\n",
        "print('É verdade que minha idade maior que 100 anos?', minhaIdade > 100)"
      ],
      "execution_count": 4,
      "outputs": [
        {
          "output_type": "stream",
          "text": [
            "É verdade que minha idade maior que 56 anos? False\n",
            "É verdade que minha idade maior que 10 anos? True\n",
            "É verdade que minha idade maior que 100 anos? False\n"
          ],
          "name": "stdout"
        }
      ]
    },
    {
      "cell_type": "code",
      "metadata": {
        "id": "C0CMMxwXp7Yk",
        "colab": {
          "base_uri": "https://localhost:8080/"
        },
        "outputId": "881ad94d-1f56-45bb-ff39-a845b8518d1c"
      },
      "source": [
        "#Operador Menor que <\n",
        "print('É verdade que minha idade menor que 56 anos?', minhaIdade < 56)\n",
        "print('É verdade que minha idade menor que 10 anos?', minhaIdade < 10)\n",
        "print('É verdade que minha idade menor que 100 anos?', minhaIdade < 100)"
      ],
      "execution_count": 5,
      "outputs": [
        {
          "output_type": "stream",
          "text": [
            "É verdade que minha idade menor que 56 anos? False\n",
            "É verdade que minha idade menor que 10 anos? False\n",
            "É verdade que minha idade menor que 100 anos? True\n"
          ],
          "name": "stdout"
        }
      ]
    },
    {
      "cell_type": "code",
      "metadata": {
        "id": "tiMtJbKMp_34",
        "colab": {
          "base_uri": "https://localhost:8080/"
        },
        "outputId": "b3ff9434-cf26-4c22-c03b-2108f72f39bf"
      },
      "source": [
        "#Operador Maior ou igual que <=\n",
        "print('É verdade que minha idade maior ou igual que 56 anos?', minhaIdade >= 56)\n",
        "print('É verdade que minha idade maior ou igual que 10 anos?', minhaIdade >= 10)\n",
        "print('É verdade que minha idade maior ou igual que 100 anos?', minhaIdade >= 100)"
      ],
      "execution_count": 6,
      "outputs": [
        {
          "output_type": "stream",
          "text": [
            "É verdade que minha idade maior ou igual que 56 anos? True\n",
            "É verdade que minha idade maior ou igual que 10 anos? True\n",
            "É verdade que minha idade maior ou igual que 100 anos? False\n"
          ],
          "name": "stdout"
        }
      ]
    },
    {
      "cell_type": "code",
      "metadata": {
        "id": "adHVAxMOqcZG",
        "colab": {
          "base_uri": "https://localhost:8080/"
        },
        "outputId": "5c48ad5b-8dca-4c69-a987-fb8e3790e95b"
      },
      "source": [
        "#Operador Menor ou igual que <=\n",
        "print('É verdade que minha idade menor ou igual que 56 anos?', minhaIdade <= 56)\n",
        "print('É verdade que minha idade menor ou igual que 10 anos?', minhaIdade <= 10)\n",
        "print('É verdade que minha idade menor ou igual que 100 anos?', minhaIdade <= 100)"
      ],
      "execution_count": 7,
      "outputs": [
        {
          "output_type": "stream",
          "text": [
            "É verdade que minha idade menor ou igual que 56 anos? True\n",
            "É verdade que minha idade menor ou igual que 10 anos? False\n",
            "É verdade que minha idade menor ou igual que 100 anos? True\n"
          ],
          "name": "stdout"
        }
      ]
    },
    {
      "cell_type": "markdown",
      "metadata": {
        "id": "znJB6jiErM_W"
      },
      "source": [
        "## **Exercícios propostos**\n",
        "\n",
        "---\n",
        "\n",
        "\n",
        "\n",
        "\n",
        "\n"
      ]
    },
    {
      "cell_type": "code",
      "metadata": {
        "id": "dqD0EBPEqilh",
        "colab": {
          "base_uri": "https://localhost:8080/"
        },
        "outputId": "3f8f895e-eddb-4ed9-e357-71df5fddeb3a"
      },
      "source": [
        "# 1-)\n",
        "# a-)Faça um script que verifique se o resultado da expressão 2*4 é maior que o resultado da expressão 3*3\n",
        "# a-)Faça um script que verifique se o resultado da expressão 2*4 é menor que o resultado da expressão 3*3\n",
        "\n",
        "n1 = 2*4\n",
        "n2 = 3*3\n",
        "\n",
        "print(n1 > n2)\n",
        "print(n1 < n2)"
      ],
      "execution_count": 11,
      "outputs": [
        {
          "output_type": "stream",
          "text": [
            "False\n",
            "True\n"
          ],
          "name": "stdout"
        }
      ]
    },
    {
      "cell_type": "code",
      "metadata": {
        "id": "-Nq32-RGr0jQ",
        "colab": {
          "base_uri": "https://localhost:8080/"
        },
        "outputId": "511c5915-9196-4f3d-9bc6-05c6c978b5c4"
      },
      "source": [
        "minhaIdade = 5\n",
        "#2-) Faça um script que verifique se o minhaIdade é\n",
        "# a-) Igual a 5\n",
        "print(minhaIdade, 'é igual a 5?', minhaIdade == 5)\n",
        "# b-) Menor que 18\n",
        "print(minhaIdade, 'é menor que 18?', minhaIdade < 18)\n",
        "# c-) Diferente de 20\n",
        "print(minhaIdade, 'é diferente de 20?', minhaIdade != 20)"
      ],
      "execution_count": 17,
      "outputs": [
        {
          "output_type": "stream",
          "text": [
            "5 é igual a 5? True\n",
            "5 é menor que 18? True\n",
            "5 é diferente de 20? True\n"
          ],
          "name": "stdout"
        }
      ]
    },
    {
      "cell_type": "code",
      "metadata": {
        "id": "IyTUW8gRtOmB",
        "colab": {
          "base_uri": "https://localhost:8080/"
        },
        "outputId": "b6d75eae-a7ab-4056-e94b-832a906c92f0"
      },
      "source": [
        "#3-) Faça um script que leia um valor inteiro do usuário, \n",
        "#e verifique se o valor é diferente de 0\n",
        "valorNum = float(input('Digite um valor numérico qualquer:'))\n",
        "print(valorNum, 'é diferente de zero?', valorNum != 0)\n"
      ],
      "execution_count": 21,
      "outputs": [
        {
          "output_type": "stream",
          "text": [
            "Digite um valor numérico qualquer:90\n",
            "90.0 é diferente de zero? True\n"
          ],
          "name": "stdout"
        }
      ]
    },
    {
      "cell_type": "code",
      "metadata": {
        "id": "zlK4-A7hsv-j",
        "colab": {
          "base_uri": "https://localhost:8080/"
        },
        "outputId": "93e07c9c-9001-4097-c307-d9de0f3ea079"
      },
      "source": [
        "#4-) Faça um script que leia um valor inteiro do usuário, e verifique se o valor é par\n",
        "NumPar = float(input('Esse número é par:'))\n",
        "print(NumPar, 'é par?', NumPar%2 == 0)"
      ],
      "execution_count": 25,
      "outputs": [
        {
          "output_type": "stream",
          "text": [
            "Esse número é par:8\n",
            "8.0 é par? True\n"
          ],
          "name": "stdout"
        }
      ]
    }
  ]
}