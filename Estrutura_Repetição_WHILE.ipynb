{
  "nbformat": 4,
  "nbformat_minor": 0,
  "metadata": {
    "colab": {
      "name": "atividade21.ipynb",
      "provenance": [],
      "collapsed_sections": [],
      "include_colab_link": true
    },
    "kernelspec": {
      "name": "python3",
      "display_name": "Python 3"
    }
  },
  "cells": [
    {
      "cell_type": "markdown",
      "metadata": {
        "id": "view-in-github",
        "colab_type": "text"
      },
      "source": [
        "<a href=\"https://colab.research.google.com/github/Bekspa/PythonFundamentos/blob/master/Estrutura_Repeti%C3%A7%C3%A3o_WHILE.ipynb\" target=\"_parent\"><img src=\"https://colab.research.google.com/assets/colab-badge.svg\" alt=\"Open In Colab\"/></a>"
      ]
    },
    {
      "cell_type": "markdown",
      "metadata": {
        "id": "UKkA9VVoD7WD"
      },
      "source": [
        "### Estrutura de repetição\n",
        "\n",
        "Em python podemos fazer com que um trecho de código se repita ENQUANTO uma dada expressão booleana seja verdadeira, utilizando a seguinte estrutura:\n",
        "\n",
        "```python\n",
        "while CONDIÇÃO:\n",
        "  Código\n",
        "```\n",
        "\n",
        "\n",
        "\n"
      ]
    },
    {
      "cell_type": "code",
      "metadata": {
        "id": "F7Ube7CR7P-m",
        "colab": {
          "base_uri": "https://localhost:8080/"
        },
        "outputId": "90373a31-7cd2-4872-dedd-7f61caa9b6e9"
      },
      "source": [
        "#o programa vai pedir valores até que o usuário digite um valor 0.\n",
        "valor = 1\n",
        "while valor != 0:\n",
        "  valor = int(input('Digite 0 para sair:\\n'))\n",
        "\n",
        "print('O script vai acabar.')"
      ],
      "execution_count": 1,
      "outputs": [
        {
          "output_type": "stream",
          "text": [
            "Digite 0 para sair:\n",
            "0\n",
            "O script vai acabar.\n"
          ],
          "name": "stdout"
        }
      ]
    },
    {
      "cell_type": "code",
      "metadata": {
        "id": "YFiGmXC-72bX",
        "colab": {
          "base_uri": "https://localhost:8080/"
        },
        "outputId": "054f78cc-9341-488d-b7af-e5fdab379361"
      },
      "source": [
        "# Podemos usar um laço while para realizar um número definido de repetição\n",
        "repeticao = 0         #Uma variável começa com valor 0\n",
        "while repeticao < 10:  #Enquanto essa variável tiver valor menor que X\n",
        "  print(repeticao)    #Repita\n",
        "  repeticao = repeticao + 1      #Aumente o valor dela"
      ],
      "execution_count": 5,
      "outputs": [
        {
          "output_type": "stream",
          "text": [
            "0\n",
            "1\n",
            "2\n",
            "3\n",
            "4\n",
            "5\n",
            "6\n",
            "7\n",
            "8\n",
            "9\n"
          ],
          "name": "stdout"
        }
      ]
    },
    {
      "cell_type": "code",
      "metadata": {
        "id": "fS1DjqsP8fQ-",
        "colab": {
          "base_uri": "https://localhost:8080/"
        },
        "outputId": "0789b0b2-3bd5-4319-a6bb-f2789b84296a"
      },
      "source": [
        "# Faça um script que imprima todos os números entre 0 e 20\n",
        "\n",
        "num = 0\n",
        "while num <= 20:\n",
        "  print(num, '\\n')\n",
        "  num = num + 1"
      ],
      "execution_count": 13,
      "outputs": [
        {
          "output_type": "stream",
          "text": [
            "0 \n",
            "\n",
            "1 \n",
            "\n",
            "2 \n",
            "\n",
            "3 \n",
            "\n",
            "4 \n",
            "\n",
            "5 \n",
            "\n",
            "6 \n",
            "\n",
            "7 \n",
            "\n",
            "8 \n",
            "\n",
            "9 \n",
            "\n",
            "10 \n",
            "\n",
            "11 \n",
            "\n",
            "12 \n",
            "\n",
            "13 \n",
            "\n",
            "14 \n",
            "\n",
            "15 \n",
            "\n",
            "16 \n",
            "\n",
            "17 \n",
            "\n",
            "18 \n",
            "\n",
            "19 \n",
            "\n",
            "20 \n",
            "\n"
          ],
          "name": "stdout"
        }
      ]
    },
    {
      "cell_type": "code",
      "metadata": {
        "id": "NbZ0n3hp80X0",
        "colab": {
          "base_uri": "https://localhost:8080/"
        },
        "outputId": "eb1ef86e-7a24-440b-8ed7-6379d45c8888"
      },
      "source": [
        "# Faça um script que imprima todos os números pares entre 0 e 50\n",
        "num = 0\n",
        "while num <= 50:\n",
        "  print(num, '\\n')\n",
        "  num = num + 2 #Aumentando de 2 em 2, garante-se a impressão de números pares somente"
      ],
      "execution_count": 18,
      "outputs": [
        {
          "output_type": "stream",
          "text": [
            "0 \n",
            "\n",
            "2 \n",
            "\n",
            "4 \n",
            "\n",
            "6 \n",
            "\n",
            "8 \n",
            "\n",
            "10 \n",
            "\n",
            "12 \n",
            "\n",
            "14 \n",
            "\n",
            "16 \n",
            "\n",
            "18 \n",
            "\n",
            "20 \n",
            "\n",
            "22 \n",
            "\n",
            "24 \n",
            "\n",
            "26 \n",
            "\n",
            "28 \n",
            "\n",
            "30 \n",
            "\n",
            "32 \n",
            "\n",
            "34 \n",
            "\n",
            "36 \n",
            "\n",
            "38 \n",
            "\n",
            "40 \n",
            "\n",
            "42 \n",
            "\n",
            "44 \n",
            "\n",
            "46 \n",
            "\n",
            "48 \n",
            "\n",
            "50 \n",
            "\n"
          ],
          "name": "stdout"
        }
      ]
    },
    {
      "cell_type": "code",
      "metadata": {
        "id": "hMX4AbCSIy1-",
        "colab": {
          "base_uri": "https://localhost:8080/"
        },
        "outputId": "7f4076f8-7885-4736-d665-1c1e8e58f6cd"
      },
      "source": [
        "# Faça um script que imprima todos os ímpares entre 0 e 50\n",
        "\n",
        "num = 1 #Inicia o programa em \"1\"\n",
        "while num <= 50:\n",
        "  print(num, '\\n')\n",
        "  num = num + 2"
      ],
      "execution_count": 27,
      "outputs": [
        {
          "output_type": "stream",
          "text": [
            "1 \n",
            "\n",
            "3 \n",
            "\n",
            "5 \n",
            "\n",
            "7 \n",
            "\n",
            "9 \n",
            "\n",
            "11 \n",
            "\n",
            "13 \n",
            "\n",
            "15 \n",
            "\n",
            "17 \n",
            "\n",
            "19 \n",
            "\n",
            "21 \n",
            "\n",
            "23 \n",
            "\n",
            "25 \n",
            "\n",
            "27 \n",
            "\n",
            "29 \n",
            "\n",
            "31 \n",
            "\n",
            "33 \n",
            "\n",
            "35 \n",
            "\n",
            "37 \n",
            "\n",
            "39 \n",
            "\n",
            "41 \n",
            "\n",
            "43 \n",
            "\n",
            "45 \n",
            "\n",
            "47 \n",
            "\n",
            "49 \n",
            "\n"
          ],
          "name": "stdout"
        }
      ]
    },
    {
      "cell_type": "code",
      "metadata": {
        "id": "LxsP2tSzI3Bj",
        "colab": {
          "base_uri": "https://localhost:8080/"
        },
        "outputId": "8011fed6-50dc-41ae-f1fe-803d1fe64d7e"
      },
      "source": [
        "# Faça um script que imprima todos os ímpares entre 0 e 50 em uma única linha.\n",
        "\n",
        "num = 0\n",
        "while num <= 50:\n",
        "  print(num, end = ' ')\n",
        "  num = num + 2"
      ],
      "execution_count": 34,
      "outputs": [
        {
          "output_type": "stream",
          "text": [
            "0 2 4 6 8 10 12 14 16 18 20 22 24 26 28 30 32 34 36 38 40 42 44 46 48 50 "
          ],
          "name": "stdout"
        }
      ]
    },
    {
      "cell_type": "code",
      "metadata": {
        "id": "cwJpTw4XJL3n",
        "colab": {
          "base_uri": "https://localhost:8080/"
        },
        "outputId": "8940ec1f-9b29-4b3b-97af-414bf2a280e6"
      },
      "source": [
        "# Faça um script que imprima todos os ímpares entre 0 e 50 em uma única linha.\n",
        "# E depois todos os pares entre 0 e 50 em uma outra linha.\n",
        "\n",
        "num = 1\n",
        "num2 = 0\n",
        "while num <= 50:\n",
        "  print(num, end = ' ')\n",
        "  num = num + 2\n",
        "print() #Força a quebra de linha entre comandos while -Outra possibilidade: print('\\n')\n",
        "while num2 <= 50:\n",
        "  print(num2, end = ' ')\n",
        "  num2 = num2 + 2\n"
      ],
      "execution_count": 45,
      "outputs": [
        {
          "output_type": "stream",
          "text": [
            "1 3 5 7 9 11 13 15 17 19 21 23 25 27 29 31 33 35 37 39 41 43 45 47 49 \n",
            "0 2 4 6 8 10 12 14 16 18 20 22 24 26 28 30 32 34 36 38 40 42 44 46 48 50 "
          ],
          "name": "stdout"
        }
      ]
    }
  ]
}