{
  "nbformat": 4,
  "nbformat_minor": 0,
  "metadata": {
    "colab": {
      "name": "atividade20.ipynb",
      "provenance": [],
      "collapsed_sections": [],
      "include_colab_link": true
    },
    "kernelspec": {
      "name": "python3",
      "display_name": "Python 3"
    }
  },
  "cells": [
    {
      "cell_type": "markdown",
      "metadata": {
        "id": "view-in-github",
        "colab_type": "text"
      },
      "source": [
        "<a href=\"https://colab.research.google.com/github/Bekspa/PythonFundamentos/blob/master/IF-ELIF.ipynb\" target=\"_parent\"><img src=\"https://colab.research.google.com/assets/colab-badge.svg\" alt=\"Open In Colab\"/></a>"
      ]
    },
    {
      "cell_type": "markdown",
      "metadata": {
        "id": "at2RR6Ca0y3h"
      },
      "source": [
        "### Estrutura de seleção IF-ELIF\n",
        "\n",
        "Na estrutura IF-ELSE, se a expressão tiver valor True, o IF será executado, caso contrário, o ELSE será executado, porém, existe uma estrutura que adicionar uma condição para que o ELSE seja executado, a estrutura IF-ELIF.\n",
        "\n",
        "Nessa estrutura, você deve adicionar uma expressão booleano no IF e uma expressão booleana no ELIF:\n",
        "\n",
        "```python\n",
        "if EXPRESSÃO1:\n",
        "  CÓDIGO1\n",
        "elif EXPRESSÃO2:\n",
        "  CÓDIGO2\n",
        "```\n",
        "O CÓDIGO1 será executado caso a EXPRESSÃO1 tenha valor True. O CÓDIGO2 só será executado caso a EXPRESSÃO1 tenha valor False e a EXPRESSÃO2 tenha valor True.\n",
        "\n",
        "Por exemplo:\n",
        "```python\n",
        "x = int(input() )\n",
        "if x<10:\n",
        "  print(x, 'é menor que 10')\n",
        "elif x<20:\n",
        "  print(x, 'é menor que 20, mas não é menor que 10')\n",
        "``` \n",
        "\n",
        "O enquanto o 'IF' pode ser entendido como 'SE' e o 'ELSE' como 'SENÃO', o 'ELIF' pode ser entendido como 'SENÃO, SE'."
      ]
    },
    {
      "cell_type": "markdown",
      "metadata": {
        "id": "uuHc5l7YOBR7"
      },
      "source": [
        "### Exemplos"
      ]
    },
    {
      "cell_type": "code",
      "metadata": {
        "id": "nUsZF9J9s_ua",
        "colab": {
          "base_uri": "https://localhost:8080/"
        },
        "outputId": "febfc886-b926-4656-85d8-7ca408ceec3e"
      },
      "source": [
        "#Script que executa os comandos internos ao ELIF\n",
        "if False:\n",
        "  print('Entrou na estrutura IF')\n",
        "elif True:\n",
        "  print('Entrou na estrutura ELIF, mas não no IF')"
      ],
      "execution_count": 1,
      "outputs": [
        {
          "output_type": "stream",
          "text": [
            "Entrou na estrutura ELIF, mas não no IF\n"
          ],
          "name": "stdout"
        }
      ]
    },
    {
      "cell_type": "code",
      "metadata": {
        "id": "CL6C-QyPtck3"
      },
      "source": [
        "#Script que não executa comandos internos nem do IF nem do ELIF\n",
        "if False:\n",
        "  print('Entrou na estrutura IF')\n",
        "elif False:\n",
        "  print('Entrou na estrutura ELIF, mas não no IF')"
      ],
      "execution_count": 2,
      "outputs": []
    },
    {
      "cell_type": "code",
      "metadata": {
        "id": "RYPcM-zTtxPL",
        "colab": {
          "base_uri": "https://localhost:8080/"
        },
        "outputId": "089f8b3d-2da3-453b-d47d-4776f002efef"
      },
      "source": [
        "#Script que ler um valor inteiro e verifica se é maior que 10 ou maior que 50.\n",
        "x = int( input('Digite um valor numérico: ') )\n",
        "\n",
        "if x>50:\n",
        "  print('O valor informado é maior que 50')\n",
        "elif x>10:\n",
        "  print('O valor informado é maior que 10, mas não é maior que 50')"
      ],
      "execution_count": 3,
      "outputs": [
        {
          "output_type": "stream",
          "text": [
            "Digite um valor numérico: 25\n",
            "O valor informado é maior que 10, mas não é maior que 50\n"
          ],
          "name": "stdout"
        }
      ]
    },
    {
      "cell_type": "code",
      "metadata": {
        "id": "12pCYRfMuE9F",
        "colab": {
          "base_uri": "https://localhost:8080/"
        },
        "outputId": "baba1b43-8ad6-4137-dbb7-5a2f0611ad88"
      },
      "source": [
        "#Script que ler um valor inteiro e verifica se é \n",
        "# Negativo, \n",
        "# valor maior ou igual a 0 e menor que 100, ou\n",
        "# valor maior ou igual a 100.\n",
        "x = int( input('Digite um valor numérico: ') )\n",
        "\n",
        "if x<0:\n",
        "  print('O valor informado é negativo.')\n",
        "elif x<100:\n",
        "  print('O valor informado é maior ou igual a 0 e menor que 100.')\n",
        "else:\n",
        "  print('O valor informado é maior ou igual a 100.')\n"
      ],
      "execution_count": 4,
      "outputs": [
        {
          "output_type": "stream",
          "text": [
            "Digite um valor numérico: -25\n",
            "O valor informado é negativo.\n"
          ],
          "name": "stdout"
        }
      ]
    },
    {
      "cell_type": "markdown",
      "metadata": {
        "id": "sjV4yTm_0tZs"
      },
      "source": [
        "## **Exercícios propostos**\n",
        "\n",
        "---\n"
      ]
    },
    {
      "cell_type": "code",
      "metadata": {
        "id": "fyQbZiEb0uUi",
        "colab": {
          "base_uri": "https://localhost:8080/"
        },
        "outputId": "8ea1e60d-344a-40fb-951f-292105c6b70c"
      },
      "source": [
        "#1-) Faça um script que recebe um valor numérico do usuário e\n",
        "# SE o valor for 1, imprima 'Você digitou o valor 1'\n",
        "# SENÃO SE o valor for 2, imprima 'Você digitou o valor 2'\n",
        "# SENÃO, imprima 'você não digitou nem 1 nem 2'\n",
        "\n",
        "x1 = int(input('Digite um valor numérico: ') )\n",
        "\n",
        "if x1==1:\n",
        "  print('Você digitou 1')\n",
        "elif x1==2:\n",
        "  print('Você digitou 2')\n",
        "elif x1<=0 or x1>=3: # ou \"else:\" (sem o uso de operadores)\n",
        "  print('Você não digitou nem 1 e nem 2')"
      ],
      "execution_count": 20,
      "outputs": [
        {
          "output_type": "stream",
          "text": [
            "Digite um valor numérico: 100\n",
            "Você não digitou nem 1 e nem 2\n"
          ],
          "name": "stdout"
        }
      ]
    },
    {
      "cell_type": "code",
      "metadata": {
        "id": "EaBu3dyBAo7h",
        "colab": {
          "base_uri": "https://localhost:8080/"
        },
        "outputId": "a9099f89-58ae-45d3-d953-d1e4cc9d6006"
      },
      "source": [
        "#2-) Faça um script que recebe um valor numérico do usuário e\n",
        "# verifica em qual intervalo o valor está.\n",
        "# [0,25] >= 0 and <= 25\n",
        "#(25,50] >25 (não está no intervalo) e <= 50\n",
        "#(50,75] >50 (não está no intervalo) e <= 75\n",
        "#(75,100] >75 (não está no intervalo) e <= 100\n",
        "# Caso o número não esteja em algum dos intervalos, imprima a mensagem 'Fora de intervalos'\n",
        "# [] representa intervalo fechado\n",
        "# () representa intervalo aberto\n",
        "\n",
        "x2 = float(input())\n",
        "\n",
        "if x2>=0 and x2<=25:\n",
        "  print('[0,25]')\n",
        "\n",
        "elif x2>25 and x2<=50:\n",
        "  print('(25,50[')\n",
        "\n",
        "elif x2>50 and x2<=75:\n",
        "  print('(50,75]')\n",
        "\n",
        "elif x2 >75 and x2<=100:\n",
        "  print('(75,100]')"
      ],
      "execution_count": 21,
      "outputs": [
        {
          "output_type": "stream",
          "text": [
            "100\n",
            "(75,100]\n"
          ],
          "name": "stdout"
        }
      ]
    }
  ]
}