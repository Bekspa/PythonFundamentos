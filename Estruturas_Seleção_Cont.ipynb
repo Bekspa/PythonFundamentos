{
  "nbformat": 4,
  "nbformat_minor": 0,
  "metadata": {
    "colab": {
      "name": "Untitled2.ipynb",
      "provenance": [],
      "authorship_tag": "ABX9TyN+TNnHUnaQEDeVPRQSrgdf",
      "include_colab_link": true
    },
    "kernelspec": {
      "name": "python3",
      "display_name": "Python 3"
    },
    "language_info": {
      "name": "python"
    }
  },
  "cells": [
    {
      "cell_type": "markdown",
      "metadata": {
        "id": "view-in-github",
        "colab_type": "text"
      },
      "source": [
        "<a href=\"https://colab.research.google.com/github/Bekspa/PythonFundamentos/blob/master/Estruturas_Sele%C3%A7%C3%A3o_Cont.ipynb\" target=\"_parent\"><img src=\"https://colab.research.google.com/assets/colab-badge.svg\" alt=\"Open In Colab\"/></a>"
      ]
    },
    {
      "cell_type": "markdown",
      "metadata": {
        "id": "2rOl03BzML5u"
      },
      "source": [
        "**Estruturas de Seleção**"
      ]
    },
    {
      "cell_type": "markdown",
      "metadata": {
        "id": "Di6omEyLMf4D"
      },
      "source": [
        "Tipos booleanos e operadores relacionais"
      ]
    },
    {
      "cell_type": "code",
      "metadata": {
        "colab": {
          "base_uri": "https://localhost:8080/"
        },
        "id": "E_S4KCRJMigG",
        "outputId": "b31c3255-0a90-419f-933a-e2920b6ed440"
      },
      "source": [
        "verdade = True\n",
        "falso = False\n",
        "print(verdade, 'ou', falso)"
      ],
      "execution_count": 1,
      "outputs": [
        {
          "output_type": "stream",
          "text": [
            "True ou False\n"
          ],
          "name": "stdout"
        }
      ]
    },
    {
      "cell_type": "code",
      "metadata": {
        "colab": {
          "base_uri": "https://localhost:8080/"
        },
        "id": "8ndF-NJFMsLM",
        "outputId": "c44b1afc-9598-426f-cef6-68026a2a1427"
      },
      "source": [
        "#Operador igual ==\n",
        "minhaIdade = 190\n",
        "print('Minha idade é igual a 190: ', minhaIdade == 190)\n",
        "print('Minha idade é igual a 19: ', minhaIdade == 19)"
      ],
      "execution_count": 2,
      "outputs": [
        {
          "output_type": "stream",
          "text": [
            "Minha idade é igual a 190:  True\n",
            "Minha idade é igual a 19:  False\n"
          ],
          "name": "stdout"
        }
      ]
    },
    {
      "cell_type": "code",
      "metadata": {
        "colab": {
          "base_uri": "https://localhost:8080/"
        },
        "id": "iFYNdh4BM7xt",
        "outputId": "286ab446-14cf-419e-92b3-20bd79506b6c"
      },
      "source": [
        "#Operador diferente !=\n",
        "minhaIdade = 190\n",
        "print('Minha idade é diferente de 190: ', minhaIdade != 190)\n",
        "print('Minha idade é diferente a 19: ', minhaIdade != 19)"
      ],
      "execution_count": 6,
      "outputs": [
        {
          "output_type": "stream",
          "text": [
            "Minha idade é diferente de 190:  False\n",
            "Minha idade é diferente a 19:  True\n"
          ],
          "name": "stdout"
        }
      ]
    },
    {
      "cell_type": "code",
      "metadata": {
        "colab": {
          "base_uri": "https://localhost:8080/"
        },
        "id": "l6pb6hjRNE56",
        "outputId": "1e774784-2a3a-4c4d-95ed-63e5f92a735d"
      },
      "source": [
        "#Operador maior que >\n",
        "minhaIdade = 190\n",
        "print('Minha idade é maior que 190: ', minhaIdade > 190)\n",
        "print('Minha idade é maior que 19: ', minhaIdade > 19)\n",
        "print('Minha idade é maior que 250: ', minhaIdade > 250)"
      ],
      "execution_count": 12,
      "outputs": [
        {
          "output_type": "stream",
          "text": [
            "Minha idade é maior que 190:  False\n",
            "Minha idade é maior que 19:  True\n",
            "Minha idade é maior que 250:  False\n"
          ],
          "name": "stdout"
        }
      ]
    },
    {
      "cell_type": "code",
      "metadata": {
        "colab": {
          "base_uri": "https://localhost:8080/"
        },
        "id": "LXC1Fy-6Nwp4",
        "outputId": "22dbe7b6-33fa-44b7-ac7c-df19670ce410"
      },
      "source": [
        "#Operador menor que >\n",
        "minhaIdade = 190\n",
        "print('Minha idade é menor que 190: ', minhaIdade < 190)\n",
        "print('Minha idade é menor que 19: ', minhaIdade < 19)\n",
        "print('Minha idade é menor que 250: ', minhaIdade < 250)"
      ],
      "execution_count": 13,
      "outputs": [
        {
          "output_type": "stream",
          "text": [
            "Minha idade é menor que 190:  False\n",
            "Minha idade é menor que 19:  False\n",
            "Minha idade é menor que 250:  True\n"
          ],
          "name": "stdout"
        }
      ]
    },
    {
      "cell_type": "code",
      "metadata": {
        "colab": {
          "base_uri": "https://localhost:8080/"
        },
        "id": "6B_-9_k8N9ws",
        "outputId": "a7924717-9d99-435d-afd7-fe638fbf0401"
      },
      "source": [
        "#Operador maior ou igual que >=\n",
        "minhaIdade = 190\n",
        "print('Minha idade é maior ou igual que 190: ', minhaIdade >= 190)\n",
        "print('Minha idade é maior ou igual que 19: ', minhaIdade >= 19)\n",
        "print('Minha idade é maior ou igual que 250: ', minhaIdade >= 250)"
      ],
      "execution_count": 14,
      "outputs": [
        {
          "output_type": "stream",
          "text": [
            "Minha idade é maior ou igual que 190:  True\n",
            "Minha idade é maior ou igual que 19:  True\n",
            "Minha idade é maior ou igual que 250:  False\n"
          ],
          "name": "stdout"
        }
      ]
    },
    {
      "cell_type": "code",
      "metadata": {
        "colab": {
          "base_uri": "https://localhost:8080/"
        },
        "id": "ucQKDUOROWMM",
        "outputId": "a5866460-c195-45b0-8d1b-7bd1d925b8aa"
      },
      "source": [
        "#Operador menor ou igual que >=\n",
        "minhaIdade = 190\n",
        "print('Minha idade é menor ou igual que 190: ', minhaIdade <= 190)\n",
        "print('Minha idade é menor ou igual que 19: ', minhaIdade <= 19)\n",
        "print('Minha idade é menor ou igual que 250: ', minhaIdade <= 250)"
      ],
      "execution_count": 16,
      "outputs": [
        {
          "output_type": "stream",
          "text": [
            "Minha idade é menor ou igual que 190:  True\n",
            "Minha idade é menor ou igual que 19:  False\n",
            "Minha idade é menor ou igual que 250:  True\n"
          ],
          "name": "stdout"
        }
      ]
    }
  ]
}