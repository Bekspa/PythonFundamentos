{
  "nbformat": 4,
  "nbformat_minor": 0,
  "metadata": {
    "colab": {
      "name": "atividade19.ipynb",
      "provenance": [],
      "collapsed_sections": [],
      "include_colab_link": true
    },
    "kernelspec": {
      "name": "python3",
      "display_name": "Python 3"
    }
  },
  "cells": [
    {
      "cell_type": "markdown",
      "metadata": {
        "id": "view-in-github",
        "colab_type": "text"
      },
      "source": [
        "<a href=\"https://colab.research.google.com/github/Bekspa/PythonFundamentos/blob/master/Estrutura_IF_ELSE.ipynb\" target=\"_parent\"><img src=\"https://colab.research.google.com/assets/colab-badge.svg\" alt=\"Open In Colab\"/></a>"
      ]
    },
    {
      "cell_type": "markdown",
      "metadata": {
        "id": "at2RR6Ca0y3h"
      },
      "source": [
        "### Estrutura de seleção IF-ELSE\n",
        "\n",
        "Logo após o uso de uma estrutura IF, podemos utilizar uma estrutura ELSE, que será executada caso a expressão presente no IF tenha valor False. Enquanto o IF pode ser entendido como SE, o ELSE pode ser entendido como SENÃO.\n",
        "\n",
        "Utilizando a seguinte estrutura:\n",
        "```python\n",
        "if EXPRESSÃO:\n",
        "  CÓDIGO1\n",
        "else:\n",
        "  CÓDIGO2\n",
        "```\n",
        "O CÓDIGO1 será executado caso a EXPRESSÃO tenha valor True. O CÓDIGO2 será executado caso a EXPRESSÃO tenha valor False.\n",
        "\n",
        "Por exemplo:\n",
        "```python\n",
        "x = int(input() )\n",
        "if x<10:\n",
        "  print(x, 'é menor que 10')\n",
        "else:\n",
        "  print(x, 'não é menor que 10')\n",
        "``` "
      ]
    },
    {
      "cell_type": "code",
      "metadata": {
        "id": "nUsZF9J9s_ua",
        "colab": {
          "base_uri": "https://localhost:8080/"
        },
        "outputId": "1d73f54b-d55d-4b32-eaf2-1fd7e052835c"
      },
      "source": [
        "#Script que executa os comandos internos ao IF\n",
        "if True:\n",
        "  print('Entrou na estrutura IF')\n",
        "else:\n",
        "  print('Entrou na estrutura ELSE')"
      ],
      "execution_count": 1,
      "outputs": [
        {
          "output_type": "stream",
          "text": [
            "Entrou na estrutura IF\n"
          ],
          "name": "stdout"
        }
      ]
    },
    {
      "cell_type": "code",
      "metadata": {
        "id": "CL6C-QyPtck3",
        "colab": {
          "base_uri": "https://localhost:8080/"
        },
        "outputId": "c194bb43-907a-4cb3-a294-64ea3dd0da35"
      },
      "source": [
        "#Script que executa os comandos internos ao ELSE\n",
        "if False:\n",
        "  print('Entrou na estrutura IF')\n",
        "else:\n",
        "  print('Entrou na estrutura ELSE')"
      ],
      "execution_count": 2,
      "outputs": [
        {
          "output_type": "stream",
          "text": [
            "Entrou na estrutura ELSE\n"
          ],
          "name": "stdout"
        }
      ]
    },
    {
      "cell_type": "code",
      "metadata": {
        "id": "RYPcM-zTtxPL",
        "colab": {
          "base_uri": "https://localhost:8080/"
        },
        "outputId": "6f4b0915-a247-4930-ab7a-1f9280cb5d88"
      },
      "source": [
        "#Script que ler um valor inteiro e verifica se é maior que 10 ou não.\n",
        "x = float( input('Digite um valor numérico: ') )\n",
        "\n",
        "if x>10:\n",
        "  print('O valor informado é maior que 10')\n",
        "else:\n",
        "  print('O valor informado não é maior que 10')"
      ],
      "execution_count": 5,
      "outputs": [
        {
          "output_type": "stream",
          "text": [
            "Digite um valor numérico: 25.25\n",
            "O valor informado é maior que 10\n"
          ],
          "name": "stdout"
        }
      ]
    },
    {
      "cell_type": "code",
      "metadata": {
        "id": "y7CZIbTKNxxl",
        "outputId": "24719ae1-5cba-404b-d617-e4c67b7e44d3",
        "colab": {
          "base_uri": "https://localhost:8080/"
        }
      },
      "source": [
        "x = float( input('Digite um valor numérico: ') )\n",
        "\n",
        "if x>10:\n",
        "  print('O valor informado é maior que 10')\n",
        "else:\n",
        "  print('O valor informado não é maior que 10')"
      ],
      "execution_count": 6,
      "outputs": [
        {
          "output_type": "stream",
          "text": [
            "Digite um valor numérico: 0.234\n",
            "O valor informado não é maior que 10\n"
          ],
          "name": "stdout"
        }
      ]
    },
    {
      "cell_type": "code",
      "metadata": {
        "id": "12pCYRfMuE9F",
        "colab": {
          "base_uri": "https://localhost:8080/"
        },
        "outputId": "d4ca3c60-634f-465b-d94b-a1bc99ece1c2"
      },
      "source": [
        "#Script que ler um valor inteiro e verifica se é par ou ímpar\n",
        "x = int( input('Digite um valor numérico: ') )\n",
        "\n",
        "if x%2==0:\n",
        "  print('O valor informado é par.')\n",
        "else:\n",
        "  print('O valor informado é ímpar.')"
      ],
      "execution_count": 12,
      "outputs": [
        {
          "output_type": "stream",
          "text": [
            "Digite um valor numérico: 25\n",
            "O valor informado é ímpar.\n"
          ],
          "name": "stdout"
        }
      ]
    },
    {
      "cell_type": "markdown",
      "metadata": {
        "id": "sjV4yTm_0tZs"
      },
      "source": [
        "## **Exercícios propostos**\n",
        "\n",
        "---\n"
      ]
    },
    {
      "cell_type": "code",
      "metadata": {
        "id": "fyQbZiEb0uUi",
        "colab": {
          "base_uri": "https://localhost:8080/"
        },
        "outputId": "bca85db4-0545-4045-b6c1-e51a60adae9e"
      },
      "source": [
        "#1-) Faça um script que recebe dois valores inteiros do usuário e\n",
        "# SE a soma for par, imprima a mensagem 'Soma é par'\n",
        "# SENAO imprima a mensagem 'Soma é ímpar'\n",
        "\n",
        "x1 = int(input('Digite um valor numérico: ') )\n",
        "x2 = int(input('Digite um outro valor numérico: ') )\n",
        "\n",
        "somaX = x1 + x2\n",
        "print('O valor da soma de x1 com x2 é: ', somaX)\n",
        "\n",
        "if (somaX)%2==0:\n",
        "  print('Soma par')\n",
        "\n",
        "else:\n",
        "  print('Soma é ímpar)')\n",
        "  "
      ],
      "execution_count": 18,
      "outputs": [
        {
          "output_type": "stream",
          "text": [
            "Digite um valor numérico: 8\n",
            "Digite um outro valor numérico: 10\n",
            "O valor da soma de x1 com x2 é:  18\n",
            "Soma par\n"
          ],
          "name": "stdout"
        }
      ]
    },
    {
      "cell_type": "code",
      "metadata": {
        "id": "EaBu3dyBAo7h",
        "colab": {
          "base_uri": "https://localhost:8080/"
        },
        "outputId": "2da9bf90-90bf-491a-88db-fce7b81e8557"
      },
      "source": [
        "#2-) Faça um script que recebe um valor do usuário e\n",
        "# SE o valor for positivo e par, imprima a mensagem 'Positivo e par'\n",
        "# SENÃO imprima a mensagem 'Não positivo ou ímpar'\n",
        "\n",
        "x3 = int(input('Digite um valor numérico: ') )\n",
        "x4 = int(input('Digite um outro valor numérico: ') )\n",
        "\n",
        "somaX1 = x3 + x4\n",
        "print('O valor da soma de x3 com x4 é: ', somaX1)\n",
        "\n",
        "if (somaX1)%2==0 and (somaX1)>0:\n",
        "  print('Soma positivo e par')\n",
        "\n",
        "else:\n",
        "  print('Soma não é positiva ou ímpar)')"
      ],
      "execution_count": 19,
      "outputs": [
        {
          "output_type": "stream",
          "text": [
            "Digite um valor numérico: 8\n",
            "Digite um outro valor numérico: 10\n",
            "O valor da soma de x3 com x4 é:  18\n",
            "Soma positivo e par\n"
          ],
          "name": "stdout"
        }
      ]
    },
    {
      "cell_type": "code",
      "metadata": {
        "id": "ZnQXYxHbA6Yu",
        "colab": {
          "base_uri": "https://localhost:8080/"
        },
        "outputId": "f773e872-787e-4259-bc6f-041b9bf4c086"
      },
      "source": [
        "#3-) Faça um script que recebe um valor do usuário e\n",
        "# SE o valor for negativo ou ímpar, imprima a mensagem 'Negativo ou ímpar'\n",
        "# SENÃO imprima a mensagem 'Não negativo e par'\n",
        "\n",
        "x5 = float(input('Digite mais um valor numérico: ') )\n",
        "\n",
        "if (x5)%2!=0 and (x5)<0:\n",
        "  print('Negativo e ímpar')\n",
        "\n",
        "else:\n",
        "  print('Não é negativa e par)')"
      ],
      "execution_count": 22,
      "outputs": [
        {
          "output_type": "stream",
          "text": [
            "Digite mais um valor numérico: -7\n",
            "Negativo e ímpar\n"
          ],
          "name": "stdout"
        }
      ]
    }
  ]
}