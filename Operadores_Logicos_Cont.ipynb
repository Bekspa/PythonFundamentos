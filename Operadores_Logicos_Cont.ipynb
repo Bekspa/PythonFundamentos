{
  "nbformat": 4,
  "nbformat_minor": 0,
  "metadata": {
    "colab": {
      "name": "atividade17.ipynb",
      "provenance": [],
      "collapsed_sections": [],
      "include_colab_link": true
    },
    "kernelspec": {
      "name": "python3",
      "display_name": "Python 3"
    }
  },
  "cells": [
    {
      "cell_type": "markdown",
      "metadata": {
        "id": "view-in-github",
        "colab_type": "text"
      },
      "source": [
        "<a href=\"https://colab.research.google.com/github/Bekspa/PythonFundamentos/blob/master/Operadores_Logicos_Cont.ipynb\" target=\"_parent\"><img src=\"https://colab.research.google.com/assets/colab-badge.svg\" alt=\"Open In Colab\"/></a>"
      ]
    },
    {
      "cell_type": "markdown",
      "metadata": {
        "id": "VrYm6S0lwWg1"
      },
      "source": [
        "## Operadores Lógicos\n",
        "Operadores lógicos são utilizados com valores booleanos. Python possue três operadores lógicos, sendo um unário e dois binários.\n",
        "\n",
        "\n",
        "\n",
        "1.   not: O operador 'not' é utilizado para inverter **um** valor booleano. \n",
        "2.   and: O operador 'and' é utilizado com **dois** valores booleanos. O and será verdade se os dois valores também forem verdade.\n",
        "3.   or: O operador 'or' é utilizado com **dois** valores booleanos. O 'or' será verdade se, pelo menos, um dos dois valores for verdade.\n"
      ]
    },
    {
      "cell_type": "code",
      "metadata": {
        "id": "hiClUiYF_Cjd",
        "colab": {
          "base_uri": "https://localhost:8080/"
        },
        "outputId": "6ee9c861-9fc0-4baf-f0a8-a84515f0488d"
      },
      "source": [
        "print(False, ' e ', False, 'é', False and False)\n",
        "print(False, ' e ', True, 'é', False and True)\n",
        "print(True, ' e ', False, 'é', True and False)\n",
        "print(True, ' e ', True, 'é', True and True) #O and será verdade se os dois valores também forem verdade."
      ],
      "execution_count": 2,
      "outputs": [
        {
          "output_type": "stream",
          "text": [
            "False  e  False é False\n",
            "False  e  True é False\n",
            "True  e  False é False\n",
            "True  e  True é True\n"
          ],
          "name": "stdout"
        }
      ]
    },
    {
      "cell_type": "code",
      "metadata": {
        "id": "tlTXQV5V_5gK",
        "colab": {
          "base_uri": "https://localhost:8080/"
        },
        "outputId": "8e7bf14b-9c8b-4253-9e24-95858fe92b93"
      },
      "source": [
        "print(False, ' ou ', False, 'é', False or False)\n",
        "print(False, ' ou ', True, 'é', False or True) #O 'or' será verdade se, pelo menos, um dos dois valores for verdade.\n",
        "print(True, ' ou ', False, 'é', True or False) #O 'or' será verdade se, pelo menos, um dos dois valores for verdade.\n",
        "print(True, ' ou ', True, 'é', True or True) #O 'or' será verdade se, pelo menos, um dos dois valores for verdade."
      ],
      "execution_count": 4,
      "outputs": [
        {
          "output_type": "stream",
          "text": [
            "False  ou  False é False\n",
            "False  ou  True é True\n",
            "True  ou  False é True\n",
            "True  ou  True é True\n"
          ],
          "name": "stdout"
        }
      ]
    },
    {
      "cell_type": "code",
      "metadata": {
        "id": "1pjY2Yn8ASc5",
        "colab": {
          "base_uri": "https://localhost:8080/"
        },
        "outputId": "9ce8e7e8-98c6-45d5-a28f-fe9690afba79"
      },
      "source": [
        "print('Não', False, 'é', not False) #é utilizado para inverter um valor booleano.\n",
        "print('Não', True, 'é', not True) #é utilizado para inverter um valor booleano."
      ],
      "execution_count": 5,
      "outputs": [
        {
          "output_type": "stream",
          "text": [
            "Não False é True\n",
            "Não True é False\n"
          ],
          "name": "stdout"
        }
      ]
    },
    {
      "cell_type": "code",
      "metadata": {
        "id": "iP_nkra0BifZ",
        "colab": {
          "base_uri": "https://localhost:8080/"
        },
        "outputId": "f2f90409-3acf-477b-c94e-81c2c1a50d2c"
      },
      "source": [
        "print('É verdade que 2 é menor que 10 e par?', 2<10 and 2%2==0)\n",
        "print('É verdade que 2 é menor que 10 ou par?', 2<10 or 2%2==0)"
      ],
      "execution_count": 6,
      "outputs": [
        {
          "output_type": "stream",
          "text": [
            "É verdade que 2 é menor que 10 e par? True\n",
            "É verdade que 2 é menor que 10 ou par? True\n"
          ],
          "name": "stdout"
        }
      ]
    },
    {
      "cell_type": "code",
      "metadata": {
        "id": "gSqrNwPGy5d5",
        "colab": {
          "base_uri": "https://localhost:8080/"
        },
        "outputId": "f2a9dcc4-d54e-4ede-de36-dd3e7cdf960d"
      },
      "source": [
        "print('É verdade que 2 é menor que 10 e ímpar?', 2<10 and 2%2!=0)\n",
        "print('É verdade que 2 é menor que 10 ou ímpar?', 2<10 or 2%2!=0)"
      ],
      "execution_count": 7,
      "outputs": [
        {
          "output_type": "stream",
          "text": [
            "É verdade que 2 é menor que 10 e ímpar? False\n",
            "É verdade que 2 é menor que 10 ou ímpar? True\n"
          ],
          "name": "stdout"
        }
      ]
    },
    {
      "cell_type": "code",
      "metadata": {
        "id": "7QSyHpvWzLW1",
        "colab": {
          "base_uri": "https://localhost:8080/"
        },
        "outputId": "f2028a06-b6d3-4548-b0a0-fca76ffb528c"
      },
      "source": [
        "print('É verdade que 7 é positivo e ímpar?', 7>0 and 7%2!=0)\n",
        "print('É verdade que 7 é negativo ou par?', 7<0 or 7%2==0)"
      ],
      "execution_count": 8,
      "outputs": [
        {
          "output_type": "stream",
          "text": [
            "É verdade que 7 é positivo e ímpar? True\n",
            "É verdade que 7 é negativo ou par? False\n"
          ],
          "name": "stdout"
        }
      ]
    },
    {
      "cell_type": "markdown",
      "metadata": {
        "id": "5dPQSwKwycz-"
      },
      "source": [
        "## **Exercícios propostos**\n",
        "\n",
        "---\n"
      ]
    },
    {
      "cell_type": "code",
      "metadata": {
        "id": "-It22FwUyedh",
        "colab": {
          "base_uri": "https://localhost:8080/"
        },
        "outputId": "062829cf-6439-4ae8-e589-750682875246"
      },
      "source": [
        "#1-) Faça um script que receba um valor inteiro do usuário e verifique se o valor é positivo\n",
        "n1 = int(input('Digite um valo inteiro: '))\n",
        "print('O valor informado é positivo?', n1>0)"
      ],
      "execution_count": 23,
      "outputs": [
        {
          "output_type": "stream",
          "text": [
            "Digite um valo inteiro: 8\n",
            "O valor informado é positivo? True\n"
          ],
          "name": "stdout"
        }
      ]
    },
    {
      "cell_type": "code",
      "metadata": {
        "id": "sGvPIa0RYwk-",
        "outputId": "51728bd8-f942-459c-9bdf-9dd5abddf72e",
        "colab": {
          "base_uri": "https://localhost:8080/"
        }
      },
      "source": [
        "print('O valor informado é positivo?', not n1<=0)"
      ],
      "execution_count": 24,
      "outputs": [
        {
          "output_type": "stream",
          "text": [
            "O valor informado é positivo? True\n"
          ],
          "name": "stdout"
        }
      ]
    },
    {
      "cell_type": "code",
      "metadata": {
        "id": "6KPMydGmz4H6",
        "colab": {
          "base_uri": "https://localhost:8080/"
        },
        "outputId": "0819241c-4ca0-41fc-f0d3-953efa8e32da"
      },
      "source": [
        "#2-) Faça um script que receba um valor inteiro do usuário e verifique se o valor é positivo e par\n",
        "n2 = int(input('Digite um valor inteiro: '))\n",
        "print('O valor informado é positivo e par?', n2>0 and n2%2==0)"
      ],
      "execution_count": 25,
      "outputs": [
        {
          "output_type": "stream",
          "text": [
            "Digite um valor inteiro: 25\n",
            "O valor informado é positivo e par? False\n"
          ],
          "name": "stdout"
        }
      ]
    },
    {
      "cell_type": "code",
      "metadata": {
        "id": "HHOWQKVPZgjd",
        "outputId": "a136b060-7a8f-41cd-c13f-79ce9577816b",
        "colab": {
          "base_uri": "https://localhost:8080/"
        }
      },
      "source": [
        "#Guardando o valo rnuma variável\n",
        "n4 = int(input('Digite um valor inteiro: '))\n",
        "resultadoN4 = n4>0 and n4%2==0\n",
        "print('O valor informado é positivo e par?', resultadoN4)\n"
      ],
      "execution_count": 26,
      "outputs": [
        {
          "output_type": "stream",
          "text": [
            "Digite um valor inteiro: 8\n",
            "O valor informado é positivo e par? True\n"
          ],
          "name": "stdout"
        }
      ]
    },
    {
      "cell_type": "code",
      "metadata": {
        "id": "6Q8pqg2Iz649",
        "colab": {
          "base_uri": "https://localhost:8080/"
        },
        "outputId": "b7467e49-cc6e-454e-a0b0-5c3771ecef5e"
      },
      "source": [
        "#3-) Faça um script que receba um valor inteiro do usuário e verifique se o valor está entre 10 e 20, inclusive\n",
        "n3 = float(input('Digite um valor: '))\n",
        "print('É verdade que o valor informado está entre 10 e 20?', n3>=10 and n3<=20)"
      ],
      "execution_count": 28,
      "outputs": [
        {
          "output_type": "stream",
          "text": [
            "Digite um valor: 20\n",
            "É verdade que o valor informado está entre 10 e 20? True\n"
          ],
          "name": "stdout"
        }
      ]
    },
    {
      "cell_type": "code",
      "metadata": {
        "id": "en2_KMsCaLKj",
        "outputId": "9c87056a-4874-4357-99f9-eb22ec93e386",
        "colab": {
          "base_uri": "https://localhost:8080/"
        }
      },
      "source": [
        "resultadoN3 = n3>0 and n3%2==0\n",
        "print('O valor informado é positivo e par?', resultadoN3)"
      ],
      "execution_count": 29,
      "outputs": [
        {
          "output_type": "stream",
          "text": [
            "O valor informado é positivo e par? True\n"
          ],
          "name": "stdout"
        }
      ]
    }
  ]
}