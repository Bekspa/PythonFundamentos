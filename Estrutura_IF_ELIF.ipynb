{
  "nbformat": 4,
  "nbformat_minor": 0,
  "metadata": {
    "colab": {
      "name": "atividadeAvaliativa04.ipynb",
      "provenance": [],
      "collapsed_sections": [],
      "include_colab_link": true
    },
    "kernelspec": {
      "name": "python3",
      "display_name": "Python 3"
    }
  },
  "cells": [
    {
      "cell_type": "markdown",
      "metadata": {
        "id": "view-in-github",
        "colab_type": "text"
      },
      "source": [
        "<a href=\"https://colab.research.google.com/github/Bekspa/PythonFundamentos/blob/master/Estrutura_IF_ELIF.ipynb\" target=\"_parent\"><img src=\"https://colab.research.google.com/assets/colab-badge.svg\" alt=\"Open In Colab\"/></a>"
      ]
    },
    {
      "cell_type": "code",
      "metadata": {
        "id": "rHX8iZJqEnvd",
        "colab": {
          "base_uri": "https://localhost:8080/"
        },
        "outputId": "18168d8d-fb79-4f28-eafa-3d8cd4300661"
      },
      "source": [
        "#Recebe dois valores inteiros do usuário e imprime o valor do maior.\n",
        "A = int(input(\"Digite o primeiro valor A: \"))\n",
        "B = int(input(\"Digite o segundo valor B: \"))\n",
        "\n",
        "print('O maior valor entre: ', A, 'e', B, 'é: ', max(A,B))"
      ],
      "execution_count": 7,
      "outputs": [
        {
          "output_type": "stream",
          "text": [
            "Digite o primeiro valor A: 19\n",
            "Digite o segundo valor B: 22\n",
            "O maior valor entre:  19 e 22 é:  22\n"
          ],
          "name": "stdout"
        }
      ]
    },
    {
      "cell_type": "code",
      "metadata": {
        "id": "15rKQ1i0WqDx",
        "colab": {
          "base_uri": "https://localhost:8080/"
        },
        "outputId": "801f6003-775c-4cf8-9ca7-6c522da79e96"
      },
      "source": [
        "#Leia um valor do usuário referente a uma temperatura\n",
        "#SE a temperatura for menor ou igual a 15, imprima a mensagem 'Frio'\n",
        "#SE a temperatura for maior ou igual a 30,  imprima a mensagem 'Quente\n",
        "#SE a temperatura for maior que 15 e menor que 30, imprima a mensagem 'Agradável'\n",
        "\n",
        "tempMax = float(input(\"Digite a temperatura máxima do dia, em graus Celsius: \"))\n",
        "\n",
        "if tempMax <= 15:\n",
        "  print('Frio')\n",
        "\n",
        "elif tempMax >= 30:\n",
        "  print('Quente')\n",
        "\n",
        "elif tempMax >= 15.1 and tempMax <= 29.9:\n",
        "  print('Agradável')\n",
        "\n",
        "\n"
      ],
      "execution_count": 19,
      "outputs": [
        {
          "output_type": "stream",
          "text": [
            "Digite a temperatura máxima do dia, em graus Celsius: 22.5\n",
            "Agradável\n"
          ],
          "name": "stdout"
        }
      ]
    },
    {
      "cell_type": "code",
      "metadata": {
        "id": "bI4JhCM2VvHT",
        "colab": {
          "base_uri": "https://localhost:8080/"
        },
        "outputId": "adf6daac-f2bf-4080-8372-eef9ffa27daa"
      },
      "source": [
        "#Recebe três valores inteiros do usuário e imprime o valor do intermediário.\n",
        "#Exemplo:\n",
        "# 4 2 6 -> 4\n",
        "# 1 5 7 -> 5 \n",
        "\n",
        "\n",
        "E = float(input(\"Digite o primeiro valor E: \"))\n",
        "F = float(input(\"Digite o segundo valor F: \"))\n",
        "G = float(input(\"Digite o terceiro valor G: \"))\n",
        "\n",
        "lista = [E,F,G]\n",
        "lista.sort() #Ordena a lista\n",
        "print('A lista ordenada é: ', lista)\n",
        "print('O maior valor na lista: ', lista, 'é', max(E,F,G)) #Confirma o maior valor da lista\n",
        "print('O menor valor na lista: ', lista, 'é', min(E,F,G)) #Confirma o menor valor da lista\n",
        "print('O valor intermediário da lista é: ', lista[int(len(lista)/2)]) #Identifica o valor no meio da lista\n",
        " "
      ],
      "execution_count": 107,
      "outputs": [
        {
          "output_type": "stream",
          "text": [
            "Digite o primeiro valor E: 1\n",
            "Digite o segundo valor F: 7\n",
            "Digite o terceiro valor G: 5\n",
            "A lista ordenada é:  [1.0, 5.0, 7.0]\n",
            "O maior valor na lista:  [1.0, 5.0, 7.0] é 7.0\n",
            "O menor valor na lista:  [1.0, 5.0, 7.0] é 1.0\n",
            "O valor intermediário da lista é:  5.0\n"
          ],
          "name": "stdout"
        }
      ]
    },
    {
      "cell_type": "code",
      "metadata": {
        "id": "yzaW3zYPWJo9",
        "colab": {
          "base_uri": "https://localhost:8080/"
        },
        "outputId": "e14561f5-c6b0-42b6-c511-da120837d32a"
      },
      "source": [
        "#Leia dois valores N1 e N2 do usuário,\n",
        "#Calcule a média sendo (N1*4 + N2*6)/10 e \n",
        "#SE a média é maior ou igual a 7, o aluno está aprovado\n",
        "#SENÃO SE a média for menor que 4, o aluno está reprovado\n",
        "#SENÃO, o aluno está de avaliação final\n",
        "\n",
        "N1 = float(input('Digite a primeira nota: '))\n",
        "N2 = float(input('Digite a segunda nota: '))\n",
        "\n",
        "media = round((N1*4 + N2*6)/10, 2)\n",
        "\n",
        "print('A média calculada é: ', media)\n",
        "\n",
        "if (media)<4:\n",
        "  print('Reprovado')\n",
        "\n",
        "elif (media)>=7:\n",
        "  print('Aprovado')\n",
        "\n",
        "elif (media) >= 4.1 and (media) <= 6.9:\n",
        "  print('Avaliação final')"
      ],
      "execution_count": 39,
      "outputs": [
        {
          "output_type": "stream",
          "text": [
            "Digite a primeira nota: 10\n",
            "Digite a segunda nota: 10\n",
            "A média calculada é:  10.0\n",
            "Aprovado\n"
          ],
          "name": "stdout"
        }
      ]
    }
  ]
}