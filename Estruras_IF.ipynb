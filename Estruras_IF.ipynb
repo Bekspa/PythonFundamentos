{
  "nbformat": 4,
  "nbformat_minor": 0,
  "metadata": {
    "colab": {
      "name": "Copy of atividade18.ipynb",
      "provenance": [],
      "collapsed_sections": [],
      "include_colab_link": true
    },
    "kernelspec": {
      "name": "python3",
      "display_name": "Python 3"
    }
  },
  "cells": [
    {
      "cell_type": "markdown",
      "metadata": {
        "id": "view-in-github",
        "colab_type": "text"
      },
      "source": [
        "<a href=\"https://colab.research.google.com/github/Bekspa/PythonFundamentos/blob/master/Estruras_IF.ipynb\" target=\"_parent\"><img src=\"https://colab.research.google.com/assets/colab-badge.svg\" alt=\"Open In Colab\"/></a>"
      ]
    },
    {
      "cell_type": "markdown",
      "metadata": {
        "id": "at2RR6Ca0y3h"
      },
      "source": [
        "### Estrutura de seleção\n",
        "\n",
        "Em python, podemos solicitar que nosso programa só execute um certo trecho de código caso uma dada expressão booleano tenha valor True. \n",
        "\n",
        "\n",
        "Utilizando a seguinte estrutura:\n",
        "```python\n",
        "if EXPRESSÃO:\n",
        "  CÓDIGO\n",
        "```\n",
        "O CÓDIGO só será executado caso a EXPRESSÃO tenha valor True. Por exemplo:\n",
        "```python\n",
        "x = int(input() )\n",
        "if x<10:\n",
        "  print(x, 'é menor que 10')\n",
        "```\n",
        "O código só será executado caso a expressão x<10 tenha valor True.\n",
        "\n",
        "Para especificar que um comando está contido na estrutura IF, o comando deve ter exatamente uma tabulação a mais."
      ]
    },
    {
      "cell_type": "code",
      "metadata": {
        "id": "nUsZF9J9s_ua",
        "colab": {
          "base_uri": "https://localhost:8080/"
        },
        "outputId": "54a7e171-e219-4163-d939-0a5c5a011012"
      },
      "source": [
        "#Script que executa os comandos internos ao IF\n",
        "if True:\n",
        "  print('Entrou na estrutura IF')"
      ],
      "execution_count": 1,
      "outputs": [
        {
          "output_type": "stream",
          "text": [
            "Entrou na estrutura IF\n"
          ],
          "name": "stdout"
        }
      ]
    },
    {
      "cell_type": "code",
      "metadata": {
        "id": "CL6C-QyPtck3",
        "colab": {
          "base_uri": "https://localhost:8080/"
        },
        "outputId": "eabf266b-17af-455c-96a2-469e826af4df"
      },
      "source": [
        "#Script que não executa os comandos internos ao IF\n",
        "if False:\n",
        "  print('Não vai entrar na estrutura IF')\n",
        "print('Esse print será executado') #Identiação identifica que response ao comando if, que é false\n",
        "print('Esse outro print será executado')"
      ],
      "execution_count": 1,
      "outputs": [
        {
          "output_type": "stream",
          "text": [
            "Esse print será executado\n",
            "Esse outro print será executado\n"
          ],
          "name": "stdout"
        }
      ]
    },
    {
      "cell_type": "code",
      "metadata": {
        "id": "RYPcM-zTtxPL",
        "colab": {
          "base_uri": "https://localhost:8080/"
        },
        "outputId": "eda2c7b3-7780-4bc1-9ef0-1aaa91e3d2ed"
      },
      "source": [
        "#Script que ler um valor inteiro e verifica se é maior que 10 ou não.\n",
        "x = int( input('Digite um valor numérico: ') )\n",
        "\n",
        "if x>10:\n",
        "  print('O valor informado é maior que 10')\n",
        "\n",
        "if not x>10:\n",
        "  print('O valor informado não é maior que 10')"
      ],
      "execution_count": 2,
      "outputs": [
        {
          "output_type": "stream",
          "text": [
            "Digite um valor numérico: 11\n",
            "O valor informado é maior que 10\n"
          ],
          "name": "stdout"
        }
      ]
    },
    {
      "cell_type": "code",
      "metadata": {
        "id": "12pCYRfMuE9F",
        "colab": {
          "base_uri": "https://localhost:8080/"
        },
        "outputId": "41dceee0-0c75-4122-c0de-d5c3f789acc2"
      },
      "source": [
        "#Script que ler um valor inteiro e verifica se é par ou ímpar\n",
        "x = int( input('Digite um valor numérico: ') )\n",
        "\n",
        "if x%2==0:\n",
        "  print('O valor informado é par.')\n",
        "\n",
        "if x%2!=0:\n",
        "  print('O valor informado é ímpar.')"
      ],
      "execution_count": 3,
      "outputs": [
        {
          "output_type": "stream",
          "text": [
            "Digite um valor numérico: 24\n",
            "O valor informado é par.\n"
          ],
          "name": "stdout"
        }
      ]
    },
    {
      "cell_type": "markdown",
      "metadata": {
        "id": "sjV4yTm_0tZs"
      },
      "source": [
        "## **Exercícios propostos**\n",
        "\n",
        "---\n"
      ]
    },
    {
      "cell_type": "code",
      "metadata": {
        "id": "fyQbZiEb0uUi",
        "colab": {
          "base_uri": "https://localhost:8080/"
        },
        "outputId": "a7881285-26f5-48ab-ab31-6c63dd0d7cb6"
      },
      "source": [
        "#1-) Faça um script que recebe dois valores inteiros do usuário e\n",
        "# SE a soma for par, imprima a mensagem 'Soma é par'\n",
        "# SE a soma for ímpar, imprima a mensagem 'Soma é ímpar'\n",
        "\n",
        "A = int(input('Digite um valor numérico: ') )\n",
        "B = int(input('Digite um segundo valor numérico: ') )\n",
        "\n",
        "somaAB = A + B\n",
        "\n",
        "if (somaAB)%2==0:\n",
        "  print('O valor informado é par.')\n",
        "\n",
        "if (somaAB)%2!=0:\n",
        "  print('O valor informado é ímpar.')"
      ],
      "execution_count": 13,
      "outputs": [
        {
          "output_type": "stream",
          "text": [
            "Digite um valor numérico: 9\n",
            "Digite um segundo valor numérico: 10\n",
            "O valor informado é ímpar.\n"
          ],
          "name": "stdout"
        }
      ]
    },
    {
      "cell_type": "code",
      "metadata": {
        "id": "EaBu3dyBAo7h",
        "colab": {
          "base_uri": "https://localhost:8080/"
        },
        "outputId": "86e17302-ba81-436d-decf-37f4100e682d"
      },
      "source": [
        "#2-) Faça um script que recebe um valor do usuário e\n",
        "# SE o valor for 0, imprima a mensagem 'Valor nulo'\n",
        "# SE o valor for positivo, imprima a mensagem 'Valor positivo'\n",
        "# SE o valor for negativo, imprima a mensagem 'Valor negativo'\n",
        "\n",
        "script1 = float(input('Informe um valor qualquer: '))\n",
        "\n",
        "if (script1)==0:\n",
        "  print('Valor nulo')\n",
        "\n",
        "if (script1)>0:\n",
        "  print('Valor positivo')\n",
        "\n",
        "if (script1)<0:\n",
        "  print('Valor negativo')"
      ],
      "execution_count": 16,
      "outputs": [
        {
          "output_type": "stream",
          "text": [
            "Informe um valor qualquer: -1\n",
            "Valor negativo\n"
          ],
          "name": "stdout"
        }
      ]
    },
    {
      "cell_type": "code",
      "metadata": {
        "id": "ZnQXYxHbA6Yu",
        "colab": {
          "base_uri": "https://localhost:8080/"
        },
        "outputId": "5009b003-e5ab-465f-9a47-97bf55586ba3"
      },
      "source": [
        "#3-) Faça um script que recebe um valor do usuário correspondente a uma média\n",
        "# SE a média for menor que 4, imprima a mensagem 'Reprovado'\n",
        "# SE a média for maior ou igual a 7, imprima a mensagem 'Aprovado'\n",
        "# SE a média for um valor menor que 7 e maior ou igual a 4, imprima a mensagem 'Avaliação Final'\n",
        "\n",
        "N1 = float(input('Digite o primeiro valor numérico: '))\n",
        "N2 = float(input('Digite o segundo valor numérico: '))\n",
        "\n",
        "media = round((N1*4 + N2*6)/10, 2)\n",
        "\n",
        "print('A média calculada é: ', media)\n",
        "\n",
        "if (media)<4:\n",
        "  print('Reprovado')\n",
        "\n",
        "if (media)>=7:\n",
        "  print('Aprovado')\n",
        "\n",
        "if (media) >= 4.1 and (media) <= 6.9:\n",
        "  print('Avaliação final')"
      ],
      "execution_count": 24,
      "outputs": [
        {
          "output_type": "stream",
          "text": [
            "Digite o primeiro valor numérico: 10\n",
            "Digite o segundo valor numérico: 10\n",
            "A média calculada é:  10.0\n",
            "Aprovado\n"
          ],
          "name": "stdout"
        }
      ]
    }
  ]
}