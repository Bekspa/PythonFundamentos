{
  "nbformat": 4,
  "nbformat_minor": 0,
  "metadata": {
    "colab": {
      "name": "atividadeAvaliativa03.ipynb",
      "provenance": [],
      "collapsed_sections": [],
      "include_colab_link": true
    },
    "kernelspec": {
      "name": "python3",
      "display_name": "Python 3"
    }
  },
  "cells": [
    {
      "cell_type": "markdown",
      "metadata": {
        "id": "view-in-github",
        "colab_type": "text"
      },
      "source": [
        "<a href=\"https://colab.research.google.com/github/Bekspa/PythonFundamentos/blob/master/atividadeAvaliativa03.ipynb\" target=\"_parent\"><img src=\"https://colab.research.google.com/assets/colab-badge.svg\" alt=\"Open In Colab\"/></a>"
      ]
    },
    {
      "cell_type": "code",
      "metadata": {
        "id": "rHX8iZJqEnvd",
        "colab": {
          "base_uri": "https://localhost:8080/"
        },
        "outputId": "4b226a53-7a50-4615-ff67-cf30e718c83a"
      },
      "source": [
        "#Receba três valores do usuário e imprima a diferença do maior valor pelo menor valor.\n",
        "A = float(input(\"Digite o primeiro valor A: \"))\n",
        "B = float(input(\"Digite o segundo valor B: \"))\n",
        "C = float(input(\"Digite o terceiro valor C: \"))\n",
        "\n",
        "print('O maior valor entre: ', A, B, C, 'é ', max(A,B,C))\n",
        "print('O menor valor entre: ', A, B, C, 'é ', min(A,B,C))\n",
        "\n",
        "print('A diferença entre o maior e o menor valor é: ', (max(A,B,C) - min(A,B,C)))"
      ],
      "execution_count": 29,
      "outputs": [
        {
          "output_type": "stream",
          "text": [
            "Digite o primeiro valor A: 100\n",
            "Digite o segundo valor B: 57\n",
            "Digite o terceiro valor C: 980\n",
            "O maior valor entre:  100.0 57.0 980.0 é  980.0\n",
            "O menor valor entre:  100.0 57.0 980.0 é  57.0\n",
            "A diferença entre o maior e o menor valor é:  923.0\n"
          ],
          "name": "stdout"
        }
      ]
    },
    {
      "cell_type": "code",
      "metadata": {
        "id": "bI4JhCM2VvHT",
        "colab": {
          "base_uri": "https://localhost:8080/"
        },
        "outputId": "a59f68e9-3e4c-48f8-ae60-65ee2adad7c9"
      },
      "source": [
        "#Leia 3 valores, no caso, variáveis A, B e C, que são as três notas de um aluno. A seguir, calcule a média do aluno, \n",
        "#sabendo que a nota A tem peso 2, a nota B tem peso 3 e a nota C tem peso 5.\n",
        "\n",
        "A1 = float(input('Digite a primeira nota do aluno: '))\n",
        "B1 = float(input('Digite a segunda nota do aluno: '))\n",
        "C1 = float(input('Digite a terceira nota do aluno: '))\n",
        "\n",
        "media = (A1*2 + B1*3 + C1*5)/10\n",
        "\n",
        "print('A médi aponderada o aluno é: ', round(media,2))\n",
        "\n"
      ],
      "execution_count": 37,
      "outputs": [
        {
          "output_type": "stream",
          "text": [
            "Digite a primeira nota do aluno: 9.8\n",
            "Digite a segunda nota do aluno: 4.5\n",
            "Digite a terceira nota do aluno: 7.2\n",
            "A média calculada do aluno é:  6.91\n"
          ],
          "name": "stdout"
        }
      ]
    },
    {
      "cell_type": "code",
      "metadata": {
        "id": "yzaW3zYPWJo9",
        "colab": {
          "base_uri": "https://localhost:8080/"
        },
        "outputId": "88d11d39-ecf3-4881-b442-bb51e6767c33"
      },
      "source": [
        "#Leia dois valores N1 e N2 do usuário, \n",
        "#imprima o resultado a expressão (N1*6 + N2*4)/10, \n",
        "#arredondado para duas casas decimais.\n",
        "\n",
        "N1 = float(input('Digite o primeiro valor numérico: '))\n",
        "N2 = float(input('Digite o segundo valor numérico: '))\n",
        "\n",
        "media = round((N1*6 + N2*4)/10, 2)\n",
        "\n",
        "print('A média calculada é: ', media)"
      ],
      "execution_count": 40,
      "outputs": [
        {
          "output_type": "stream",
          "text": [
            "Digite o primeiro valor numérico: 1.59202028282\n",
            "Digite o segundo valor numérico: 6.7010192022\n",
            "A média calculada é:  3.64\n"
          ],
          "name": "stdout"
        }
      ]
    },
    {
      "cell_type": "code",
      "metadata": {
        "id": "15rKQ1i0WqDx",
        "colab": {
          "base_uri": "https://localhost:8080/"
        },
        "outputId": "44ea8f86-baea-47c7-8a14-11187fdd0f17"
      },
      "source": [
        "#Leia um valor representando uma primeira posição em km.\n",
        "#Leia um valor representando uma segunda posição em km.\n",
        "#Imprima a diferença absoluta entre as posição.\n",
        "#Exemplo: primeira=10, segunda=20, diferença=10.\n",
        "#Exemplo: primeira=30, segunda=5, diferença=25.\n",
        "\n",
        "km1 = float(input('Digite a distância entre o ponto A e o B, em Km: '))\n",
        "km2 = float(input('Digite a distância percorrida entre o ponto B e o C, em Km: '))\n",
        "\n",
        "print('A distância percorrida entre o ponto A e B, é: ', km1)\n",
        "print('A distância percorrida entre o ponto B e C, é: ', km2)\n",
        "\n",
        "print('A diferença entre as distâncias percorridas é: ', abs(km1 - km2))"
      ],
      "execution_count": 47,
      "outputs": [
        {
          "output_type": "stream",
          "text": [
            "Digite a distância entre o ponto A e o B, em Km: 10\n",
            "Digite a distância percorrida entre o ponto B e o C, em Km: 20\n",
            "A distância percorrida entre o ponto A e B, é:  10.0\n",
            "A distância percorrida entre o ponto B e C, é:  20.0\n",
            "A diferença entre as distâncias percorridas é:  10.0\n"
          ],
          "name": "stdout"
        }
      ]
    }
  ]
}